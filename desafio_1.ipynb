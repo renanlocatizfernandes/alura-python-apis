{
 "cells": [
  {
   "cell_type": "markdown",
   "metadata": {},
   "source": [
    "Para praticar o conteúdo aprendido no decorrer dessa aula e também aprender novos, vamos realizar um desafio prático utilizando a biblioteca Requests e a API do GitHub.\n",
    "\n",
    "Faça uma requisição GET à API do Github para obter as informações do perfil de um usuário específico. Para isso, utilize a biblioteca Requests do Python e a URL https://api.github.com/users/{username}, substituindo {username} pelo nome de usuário desejado.\n",
    "\n",
    "Com o objeto response retornado pela requisição, imprima na tela as seguintes informações sobre a requisição:\n",
    "\n",
    "status code da requisição, para analisar se foi bem sucedida ou não;\n",
    "conteúdo da requisição, para conferir se os dados de usuário vieram corretamente;\n",
    "URL da requisição feita, para garantir que a url utilizada na requisição foi a correta.\n",
    "Após conferir isso, analise novamente o conteúdo retornado pela requisição e imprima na tela apenas as seguintes informações sobre a pessoa usuária em questão:\n",
    "\n",
    "Nome\n",
    "Nome de usuário\n",
    "Número de repositórios públicos\n",
    "Data de criação da conta no GitHub\n",
    "Dica: Para selecionar essas informações específicas, você pode visualizar o conteúdo da requisição no formato JSON e fazer a seleção das chaves que possuem as informações desejadas.\n",
    "\n",
    "Se precisar de ajuda, na seção \"Opinião do Instrutor\" você pode encontrar algumas formas de resolver os desafios propostos acima."
   ]
  },
  {
   "cell_type": "code",
   "execution_count": 1,
   "metadata": {},
   "outputs": [],
   "source": [
    "import requests"
   ]
  },
  {
   "cell_type": "code",
   "execution_count": 3,
   "metadata": {},
   "outputs": [
    {
     "data": {
      "text/plain": [
       "200"
      ]
     },
     "execution_count": 3,
     "metadata": {},
     "output_type": "execute_result"
    }
   ],
   "source": [
    "r = requests.get('https://api.github.com/users/renanlocatizfernandes')\n",
    "r.status_code"
   ]
  },
  {
   "cell_type": "code",
   "execution_count": 4,
   "metadata": {},
   "outputs": [
    {
     "data": {
      "text/plain": [
       "'{\"login\":\"renanlocatizfernandes\",\"id\":28491295,\"node_id\":\"MDQ6VXNlcjI4NDkxMjk1\",\"avatar_url\":\"https://avatars.githubusercontent.com/u/28491295?v=4\",\"gravatar_id\":\"\",\"url\":\"https://api.github.com/users/renanlocatizfernandes\",\"html_url\":\"https://github.com/renanlocatizfernandes\",\"followers_url\":\"https://api.github.com/users/renanlocatizfernandes/followers\",\"following_url\":\"https://api.github.com/users/renanlocatizfernandes/following{/other_user}\",\"gists_url\":\"https://api.github.com/users/renanlocatizfernandes/gists{/gist_id}\",\"starred_url\":\"https://api.github.com/users/renanlocatizfernandes/starred{/owner}{/repo}\",\"subscriptions_url\":\"https://api.github.com/users/renanlocatizfernandes/subscriptions\",\"organizations_url\":\"https://api.github.com/users/renanlocatizfernandes/orgs\",\"repos_url\":\"https://api.github.com/users/renanlocatizfernandes/repos\",\"events_url\":\"https://api.github.com/users/renanlocatizfernandes/events{/privacy}\",\"received_events_url\":\"https://api.github.com/users/renanlocatizfernandes/received_events\",\"type\":\"User\",\"site_admin\":false,\"name\":\"Renan Locatiz Fernandes\",\"company\":null,\"blog\":\"https://linktr.ee/renanlfernandes\",\"location\":\"Curitiba\",\"email\":null,\"hireable\":null,\"bio\":null,\"twitter_username\":null,\"public_repos\":13,\"public_gists\":1,\"followers\":1,\"following\":1,\"created_at\":\"2017-05-06T18:51:13Z\",\"updated_at\":\"2024-07-24T01:15:39Z\"}'"
      ]
     },
     "execution_count": 4,
     "metadata": {},
     "output_type": "execute_result"
    }
   ],
   "source": [
    "r.text"
   ]
  },
  {
   "cell_type": "code",
   "execution_count": 5,
   "metadata": {},
   "outputs": [
    {
     "data": {
      "text/plain": [
       "{'login': 'renanlocatizfernandes',\n",
       " 'id': 28491295,\n",
       " 'node_id': 'MDQ6VXNlcjI4NDkxMjk1',\n",
       " 'avatar_url': 'https://avatars.githubusercontent.com/u/28491295?v=4',\n",
       " 'gravatar_id': '',\n",
       " 'url': 'https://api.github.com/users/renanlocatizfernandes',\n",
       " 'html_url': 'https://github.com/renanlocatizfernandes',\n",
       " 'followers_url': 'https://api.github.com/users/renanlocatizfernandes/followers',\n",
       " 'following_url': 'https://api.github.com/users/renanlocatizfernandes/following{/other_user}',\n",
       " 'gists_url': 'https://api.github.com/users/renanlocatizfernandes/gists{/gist_id}',\n",
       " 'starred_url': 'https://api.github.com/users/renanlocatizfernandes/starred{/owner}{/repo}',\n",
       " 'subscriptions_url': 'https://api.github.com/users/renanlocatizfernandes/subscriptions',\n",
       " 'organizations_url': 'https://api.github.com/users/renanlocatizfernandes/orgs',\n",
       " 'repos_url': 'https://api.github.com/users/renanlocatizfernandes/repos',\n",
       " 'events_url': 'https://api.github.com/users/renanlocatizfernandes/events{/privacy}',\n",
       " 'received_events_url': 'https://api.github.com/users/renanlocatizfernandes/received_events',\n",
       " 'type': 'User',\n",
       " 'site_admin': False,\n",
       " 'name': 'Renan Locatiz Fernandes',\n",
       " 'company': None,\n",
       " 'blog': 'https://linktr.ee/renanlfernandes',\n",
       " 'location': 'Curitiba',\n",
       " 'email': None,\n",
       " 'hireable': None,\n",
       " 'bio': None,\n",
       " 'twitter_username': None,\n",
       " 'public_repos': 13,\n",
       " 'public_gists': 1,\n",
       " 'followers': 1,\n",
       " 'following': 1,\n",
       " 'created_at': '2017-05-06T18:51:13Z',\n",
       " 'updated_at': '2024-07-24T01:15:39Z'}"
      ]
     },
     "execution_count": 5,
     "metadata": {},
     "output_type": "execute_result"
    }
   ],
   "source": [
    "r.json()"
   ]
  },
  {
   "cell_type": "code",
   "execution_count": 6,
   "metadata": {},
   "outputs": [
    {
     "data": {
      "text/plain": [
       "'https://api.github.com/users/renanlocatizfernandes'"
      ]
     },
     "execution_count": 6,
     "metadata": {},
     "output_type": "execute_result"
    }
   ],
   "source": [
    "r.url"
   ]
  },
  {
   "cell_type": "code",
   "execution_count": 11,
   "metadata": {},
   "outputs": [
    {
     "data": {
      "text/plain": [
       "'Renan Locatiz Fernandes'"
      ]
     },
     "execution_count": 11,
     "metadata": {},
     "output_type": "execute_result"
    }
   ],
   "source": [
    "r.json()['name']"
   ]
  },
  {
   "cell_type": "code",
   "execution_count": 14,
   "metadata": {},
   "outputs": [
    {
     "data": {
      "text/plain": [
       "'renanlocatizfernandes'"
      ]
     },
     "execution_count": 14,
     "metadata": {},
     "output_type": "execute_result"
    }
   ],
   "source": [
    "r.json()['login']"
   ]
  },
  {
   "cell_type": "code",
   "execution_count": 16,
   "metadata": {},
   "outputs": [
    {
     "data": {
      "text/plain": [
       "13"
      ]
     },
     "execution_count": 16,
     "metadata": {},
     "output_type": "execute_result"
    }
   ],
   "source": [
    "r.json()['public_repos']"
   ]
  },
  {
   "cell_type": "code",
   "execution_count": 17,
   "metadata": {},
   "outputs": [
    {
     "data": {
      "text/plain": [
       "'2017-05-06T18:51:13Z'"
      ]
     },
     "execution_count": 17,
     "metadata": {},
     "output_type": "execute_result"
    }
   ],
   "source": [
    "r.json()['created_at']"
   ]
  }
 ],
 "metadata": {
  "kernelspec": {
   "display_name": "venv",
   "language": "python",
   "name": "python3"
  },
  "language_info": {
   "codemirror_mode": {
    "name": "ipython",
    "version": 3
   },
   "file_extension": ".py",
   "mimetype": "text/x-python",
   "name": "python",
   "nbconvert_exporter": "python",
   "pygments_lexer": "ipython3",
   "version": "3.12.3"
  }
 },
 "nbformat": 4,
 "nbformat_minor": 2
}
